{
 "cells": [
  {
   "cell_type": "code",
   "execution_count": 3,
   "id": "61f2e13a-8ad1-4383-9835-720264de751b",
   "metadata": {},
   "outputs": [
    {
     "data": {
      "application/vnd.jupyter.widget-view+json": {
       "model_id": "6c5bea8bff41489098d524559fe63921",
       "version_major": 2,
       "version_minor": 0
      },
      "text/plain": [
       "interactive(children=(FloatSlider(value=50000000000.0, description='Mass 1', max=100000000000.0, min=100000000…"
      ]
     },
     "metadata": {},
     "output_type": "display_data"
    },
    {
     "data": {
      "text/plain": [
       "<function __main__.plot_field(m1, x1, y1, m2, x2, y2)>"
      ]
     },
     "execution_count": 3,
     "metadata": {},
     "output_type": "execute_result"
    }
   ],
   "source": [
    "import numpy as np\n",
    "import matplotlib.pyplot as plt\n",
    "from ipywidgets import interact, FloatSlider\n",
    "\n",
    "G = 6.67430e-11  # gravitational constant\n",
    "\n",
    "def gravitational_field(mass, position, grid_x, grid_y):\n",
    "    dx = grid_x - position[0]\n",
    "    dy = grid_y - position[1]\n",
    "    r_squared = dx**2 + dy**2\n",
    "    r_squared[r_squared == 0] = 1e-9\n",
    "    r = np.sqrt(r_squared)\n",
    "    field_x = -G * mass * dx / (r**3)\n",
    "    field_y = -G * mass * dy / (r**3)\n",
    "    return field_x, field_y\n",
    "\n",
    "def plot_field(m1, x1, y1, m2, x2, y2):\n",
    "    x, y = np.meshgrid(np.linspace(-5, 5, 50), np.linspace(-5, 5, 50))\n",
    "    Fx, Fy = np.zeros(x.shape), np.zeros(y.shape)\n",
    "    for mass, pos in [(m1, (x1, y1)), (m2, (x2, y2))]:\n",
    "        fx, fy = gravitational_field(mass, pos, x, y)\n",
    "        Fx += fx\n",
    "        Fy += fy\n",
    "\n",
    "    plt.figure(figsize=(8, 8))\n",
    "    plt.streamplot(x, y, Fx, Fy, color=np.log(np.sqrt(Fx**2 + Fy**2)))\n",
    "    plt.scatter([x1, x2], [y1, y2], color='red', s=80)\n",
    "    plt.title(\"Interactive Gravitational Field Mapper 🌌\")\n",
    "    plt.xlabel(\"X-axis\")\n",
    "    plt.ylabel(\"Y-axis\")\n",
    "    plt.show()\n",
    "\n",
    "interact(\n",
    "    plot_field,\n",
    "    m1=FloatSlider(value=5e10, min=1e9, max=1e11, step=1e9, description='Mass 1'),\n",
    "    x1=FloatSlider(value=0, min=-5, max=5, step=0.5, description='X1'),\n",
    "    y1=FloatSlider(value=0, min=-5, max=5, step=0.5, description='Y1'),\n",
    "    m2=FloatSlider(value=3e10, min=1e9, max=1e11, step=1e9, description='Mass 2'),\n",
    "    x2=FloatSlider(value=3, min=-5, max=5, step=0.5, description='X2'),\n",
    "    y2=FloatSlider(value=3, min=-5, max=5, step=0.5, description='Y2'),\n",
    ")\n"
   ]
  },
  {
   "cell_type": "code",
   "execution_count": null,
   "id": "e20c519e-6ea9-4a18-96ec-f50fe21f66e5",
   "metadata": {},
   "outputs": [],
   "source": []
  },
  {
   "cell_type": "code",
   "execution_count": null,
   "id": "04dc33d3-5253-40e0-9933-321442c17a39",
   "metadata": {},
   "outputs": [],
   "source": []
  }
 ],
 "metadata": {
  "kernelspec": {
   "display_name": "Python 3 (ipykernel)",
   "language": "python",
   "name": "python3"
  },
  "language_info": {
   "codemirror_mode": {
    "name": "ipython",
    "version": 3
   },
   "file_extension": ".py",
   "mimetype": "text/x-python",
   "name": "python",
   "nbconvert_exporter": "python",
   "pygments_lexer": "ipython3",
   "version": "3.12.1"
  }
 },
 "nbformat": 4,
 "nbformat_minor": 5
}
